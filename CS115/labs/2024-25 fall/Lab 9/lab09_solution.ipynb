{
 "cells": [
  {
   "cell_type": "markdown",
   "id": "ceefced5",
   "metadata": {},
   "source": [
    "# Lab 09\n",
    "## Complete the questions below in the space provided."
   ]
  },
  {
   "cell_type": "markdown",
   "id": "b1b3c687",
   "metadata": {},
   "source": [
    "Before starting, download the file exam.csv.  This file is a comma delimited file that stores the city codes and the number of English, French and German exams that will be held in the corresponding cities."
   ]
  },
  {
   "cell_type": "markdown",
   "id": "cdbb69b4",
   "metadata": {},
   "source": [
    "Import numpy package in your code as np"
   ]
  },
  {
   "cell_type": "code",
   "execution_count": 1,
   "id": "5a82a341",
   "metadata": {},
   "outputs": [],
   "source": [
    "import numpy as np"
   ]
  },
  {
   "cell_type": "markdown",
   "id": "73268dbd",
   "metadata": {},
   "source": [
    "Read the data in the comma-delimited file, exam.csv into a numpy array, data as integers and print it."
   ]
  },
  {
   "cell_type": "code",
   "execution_count": 2,
   "id": "b973823c",
   "metadata": {},
   "outputs": [
    {
     "name": "stdout",
     "output_type": "stream",
     "text": [
      "[[  1 125  75  37]\n",
      " [  6 325 350 150]\n",
      " [  7 104  45  42]\n",
      " [  9 132 145 153]\n",
      " [ 16 112  67  86]\n",
      " [ 26 400 205  34]\n",
      " [ 34 465 154 501]\n",
      " [ 35 356 143 113]\n",
      " [ 42 219  25  63]\n",
      " [ 45  86  34  78]\n",
      " [ 61 348  19  13]]\n"
     ]
    }
   ],
   "source": [
    "data = np.loadtxt('exam.csv', skiprows = 1, dtype = 'int', delimiter = ',')\n",
    "print( data)"
   ]
  },
  {
   "cell_type": "markdown",
   "id": "924a9b58",
   "metadata": {},
   "source": [
    "Separate city codes and exam information into city and exams arrays and print them"
   ]
  },
  {
   "cell_type": "code",
   "execution_count": 3,
   "id": "e9548244",
   "metadata": {},
   "outputs": [
    {
     "name": "stdout",
     "output_type": "stream",
     "text": [
      "[[ 1]\n",
      " [ 6]\n",
      " [ 7]\n",
      " [ 9]\n",
      " [16]\n",
      " [26]\n",
      " [34]\n",
      " [35]\n",
      " [42]\n",
      " [45]\n",
      " [61]]\n",
      "[[125  75  37]\n",
      " [325 350 150]\n",
      " [104  45  42]\n",
      " [132 145 153]\n",
      " [112  67  86]\n",
      " [400 205  34]\n",
      " [465 154 501]\n",
      " [356 143 113]\n",
      " [219  25  63]\n",
      " [ 86  34  78]\n",
      " [348  19  13]]\n"
     ]
    }
   ],
   "source": [
    "city, exams = np.hsplit(data, [1])\n",
    "print(city)\n",
    "print(exams)"
   ]
  },
  {
   "cell_type": "markdown",
   "id": "b9227a72",
   "metadata": {},
   "source": [
    "Store the total number of candidates who will enter in each city in total array and print it"
   ]
  },
  {
   "cell_type": "code",
   "execution_count": 5,
   "id": "a5db3a7d",
   "metadata": {},
   "outputs": [
    {
     "name": "stdout",
     "output_type": "stream",
     "text": [
      "[ 237  825  191  430  265  639 1120  612  307  198  380]\n"
     ]
    }
   ],
   "source": [
    "total = np.sum(exams, axis = 1)\n",
    "print(total)"
   ]
  },
  {
   "cell_type": "markdown",
   "id": "454d5862",
   "metadata": {},
   "source": [
    "Find the index ind of the maximum total and print it."
   ]
  },
  {
   "cell_type": "code",
   "execution_count": 6,
   "id": "9bec57ea",
   "metadata": {},
   "outputs": [
    {
     "name": "stdout",
     "output_type": "stream",
     "text": [
      "6\n"
     ]
    }
   ],
   "source": [
    "ind = np.argmax(total)\n",
    "print(ind)"
   ]
  },
  {
   "cell_type": "markdown",
   "id": "54ac721d",
   "metadata": {},
   "source": [
    "Find the city code code with highest number of total candidates and print it"
   ]
  },
  {
   "cell_type": "code",
   "execution_count": 7,
   "id": "ba0b13ba",
   "metadata": {},
   "outputs": [
    {
     "name": "stdout",
     "output_type": "stream",
     "text": [
      "[34]\n"
     ]
    }
   ],
   "source": [
    "code = city[ind]\n",
    "print(code)"
   ]
  },
  {
   "cell_type": "code",
   "execution_count": null,
   "id": "8c472a1c",
   "metadata": {},
   "outputs": [],
   "source": [
    "Create an array query of those exam values with English exam more than the sum of French and German Exams and print query array."
   ]
  },
  {
   "cell_type": "code",
   "execution_count": 8,
   "id": "ccf41676",
   "metadata": {},
   "outputs": [
    {
     "name": "stdout",
     "output_type": "stream",
     "text": [
      "[[125  75  37]\n",
      " [104  45  42]\n",
      " [400 205  34]\n",
      " [356 143 113]\n",
      " [219  25  63]\n",
      " [348  19  13]]\n"
     ]
    }
   ],
   "source": [
    "query = exams[exams[:,0] > exams[:,1] + exams[:,2]]\n",
    "print(query)"
   ]
  },
  {
   "cell_type": "code",
   "execution_count": null,
   "id": "f5961e53",
   "metadata": {},
   "outputs": [],
   "source": [
    "Create an array pos to store the indexes of those cities in exams array where either French exam candidates or German exam \n",
    "candidates are more than English exam candidates and print pos.\n"
   ]
  },
  {
   "cell_type": "code",
   "execution_count": 9,
   "id": "a25f6fbd",
   "metadata": {},
   "outputs": [
    {
     "name": "stdout",
     "output_type": "stream",
     "text": [
      "(array([1, 3, 6], dtype=int64),)\n"
     ]
    }
   ],
   "source": [
    "pos = np.where((exams[:,1] > exams[:,0]) | (exams[:,2] > exams[:,0]))\n",
    "print(pos)"
   ]
  },
  {
   "cell_type": "markdown",
   "id": "97a215c4",
   "metadata": {},
   "source": [
    "Add 10 more candiates to English and German exam candidates in exams array and after merging city codes with exams array write the data to a new file newdata.txt.\n"
   ]
  },
  {
   "cell_type": "code",
   "execution_count": 10,
   "id": "bdf0ebf5",
   "metadata": {},
   "outputs": [],
   "source": [
    "exams[:,0:3:2] += 10\n",
    "merged = np.hstack([city,exams])\n",
    "np.savetxt('newdata.txt', merged, fmt = '%s')"
   ]
  }
 ],
 "metadata": {
  "kernelspec": {
   "display_name": "Python 3",
   "language": "python",
   "name": "python3"
  },
  "language_info": {
   "codemirror_mode": {
    "name": "ipython",
    "version": 3
   },
   "file_extension": ".py",
   "mimetype": "text/x-python",
   "name": "python",
   "nbconvert_exporter": "python",
   "pygments_lexer": "ipython3",
   "version": "3.8.8"
  }
 },
 "nbformat": 4,
 "nbformat_minor": 5
}
