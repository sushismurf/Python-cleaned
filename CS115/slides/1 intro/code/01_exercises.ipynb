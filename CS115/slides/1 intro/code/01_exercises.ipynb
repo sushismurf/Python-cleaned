{
 "cells": [
  {
   "cell_type": "markdown",
   "metadata": {},
   "source": [
    "# Week 1 Exercises\n",
    "## Variables, Expressions, Input / Output & Formatting Output\n",
    "\n",
    "## Exercise 1\n",
    "Write a code fragment that converts 400 K to Celsius, and displays the result in a proper format. \n",
    "Note that T(°C) = T(K) - 273.15."
   ]
  },
  {
   "cell_type": "code",
   "execution_count": 3,
   "metadata": {},
   "outputs": [
    {
     "name": "stdout",
     "output_type": "stream",
     "text": [
      "400 degrees K is 126.85000000000002 degrees C\n",
      "400 degrees K is126.85000000000002 degrees C\n",
      "400 Degrees K is 126.85 degrees C\n"
     ]
    }
   ],
   "source": [
    "k = 400\n",
    "c = k - 273.15\n",
    "# display result without formatting the output\n",
    "print(k, 'degrees K is', c, 'degrees C')\n",
    "# another way to do it\n",
    "print(str(k) + ' degrees K is' + str(c) + ' degrees C')\n",
    "# display by formatting the output\n",
    "print(f'{k:d} Degrees K is {c:.2f} degrees C')"
   ]
  },
  {
   "cell_type": "markdown",
   "metadata": {},
   "source": [
    "## Exercise 2\n",
    "\n",
    "Write a  code fragment that finds the area and perimeter of a circle with the radius 1.5 cm and display the result. \n",
    " You can assume pi is the constant value 3.14."
   ]
  },
  {
   "cell_type": "code",
   "execution_count": 4,
   "metadata": {},
   "outputs": [
    {
     "name": "stdout",
     "output_type": "stream",
     "text": [
      "Area: 7.065 Perimeter: 9.42\n",
      "Area: 7.07 Perimeter: 9.42\n"
     ]
    }
   ],
   "source": [
    "pi = 3.14\n",
    "radius = 1.5\n",
    "area = pi * radius ** 2\n",
    "perimeter = 2 * radius * pi\n",
    "# display raw area and perimeter (without formatting)\n",
    "print('Area:', area, 'Perimeter:', perimeter)\n",
    "# display area and perimeter by formatting the numbers\n",
    "print(f'Area: {area:.2f} Perimeter: {perimeter:.2f}')"
   ]
  },
  {
   "cell_type": "markdown",
   "metadata": {},
   "source": [
    "## Exercise 3\n",
    "\n",
    "Write a code fragment that finds reads the radius of a circle from the user and computes the area and perimeter of the circle \n",
    "with the specified radius and display the result. You can assume pi is the constant value 3.14.\n"
   ]
  },
  {
   "cell_type": "code",
   "execution_count": 4,
   "metadata": {},
   "outputs": [
    {
     "name": "stdout",
     "output_type": "stream",
     "text": [
      "Enter the radius: 2.4\n",
      "Area: 18.0864 Perimeter: 15.072\n",
      "Area: 18.09 Perimeter: 15.07\n"
     ]
    }
   ],
   "source": [
    "pi = 3.14\n",
    "radius = float(input('Enter the radius: '))\n",
    "area = pi * radius ** 2\n",
    "perimeter = 2 * radius * pi\n",
    "# display raw area and perimeter (without formatting)\n",
    "print('Area:', area, 'Perimeter:', perimeter)\n",
    "# display area and perimeter by formatting the numbers\n",
    "print(f'Area: {area:.2f} Perimeter: {perimeter:.2f}')"
   ]
  },
  {
   "cell_type": "markdown",
   "metadata": {},
   "source": [
    "## Exercise 4\n",
    "\n",
    "Write a code fragment that finds the sum of the first and last digit of some number."
   ]
  },
  {
   "cell_type": "code",
   "execution_count": 7,
   "metadata": {},
   "outputs": [
    {
     "name": "stdout",
     "output_type": "stream",
     "text": [
      "The sum of 3 and 5 is 8\n",
      "The sum of 3 and 5 is 8\n"
     ]
    }
   ],
   "source": [
    "num = 3715\n",
    "first = num // 1000\n",
    "last = num % 10\n",
    "digit_sum = first + last\n",
    "print('The sum of', first, 'and', last, 'is', digit_sum)\n",
    "print(f'The sum of {first} and {last:d} is {digit_sum:d}')"
   ]
  },
  {
   "cell_type": "markdown",
   "metadata": {},
   "source": [
    "## Exercise 5\n",
    "\n",
    "Write a code fragment to calculate the number of hours and minutes needed \n",
    "for a car to travel 500 kilometers at the velocity 110 km/h."
   ]
  },
  {
   "cell_type": "code",
   "execution_count": 8,
   "metadata": {},
   "outputs": [
    {
     "name": "stdout",
     "output_type": "stream",
     "text": [
      "It will take 4 and 32.72727272727275 minutes to travel 500 kms at a speed of 110 km/h\n",
      "It will take 4 hours and 32.72727272727275 minutes to travel 500 kms at a speed of 110 km/h\n"
     ]
    }
   ],
   "source": [
    "distance = 500\n",
    "velocity = 110\n",
    "hours = distance // velocity\n",
    "minutes = (distance / velocity - hours) * 60\n",
    "print('It will take', hours, 'and', minutes, 'minutes to travel', distance, \n",
    "      'kms at a speed of', velocity, 'km/h')\n",
    "print(f'It will take {hours} hours and {minutes} minutes to travel {distance} kms \\\n",
    "at a speed of {velocity} km/h')\n"
   ]
  }
 ],
 "metadata": {
  "kernelspec": {
   "display_name": "Python 3",
   "language": "python",
   "name": "python3"
  },
  "language_info": {
   "codemirror_mode": {
    "name": "ipython",
    "version": 3
   },
   "file_extension": ".py",
   "mimetype": "text/x-python",
   "name": "python",
   "nbconvert_exporter": "python",
   "pygments_lexer": "ipython3",
   "version": "3.8.3"
  }
 },
 "nbformat": 4,
 "nbformat_minor": 2
}
