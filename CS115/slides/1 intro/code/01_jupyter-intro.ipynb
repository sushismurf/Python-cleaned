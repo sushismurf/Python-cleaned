{
 "cells": [
  {
   "cell_type": "markdown",
   "metadata": {},
   "source": [
    "# A brief introduction to Jupyter Notebook\n",
    "\n",
    "##  Simple Python code examples\n",
    "\n",
    "A <font color=red>Jupyter</font> notebook consist of cells: code cells and markdown cells.\n",
    "    \n",
    "This is simply a markdown cell (text written using [markdown](https://jupyter-notebook.readthedocs.io/en/stable/examples/Notebook/Working%20With%20Markdown%20Cells.html) formatting)."
   ]
  },
  {
   "cell_type": "code",
   "execution_count": 3,
   "metadata": {},
   "outputs": [
    {
     "data": {
      "text/plain": [
       "9"
      ]
     },
     "execution_count": 3,
     "metadata": {},
     "output_type": "execute_result"
    }
   ],
   "source": [
    "2 + 7"
   ]
  },
  {
   "cell_type": "code",
   "execution_count": 4,
   "metadata": {},
   "outputs": [
    {
     "name": "stdout",
     "output_type": "stream",
     "text": [
      "2 3\n",
      "5\n",
      "value of z: 5\n"
     ]
    }
   ],
   "source": [
    "x = 2\n",
    "y = x\n",
    "y = 3\n",
    "z = x + y\n",
    "print(x, y)\n",
    "print(z)\n",
    "print(\"value of z:\", z)"
   ]
  },
  {
   "cell_type": "code",
   "execution_count": 5,
   "metadata": {},
   "outputs": [
    {
     "name": "stdout",
     "output_type": "stream",
     "text": [
      "y is 24\n"
     ]
    }
   ],
   "source": [
    "x = 5\n",
    "y = (x - 1) * (x + 1)\n",
    "print(\"y is\", y)"
   ]
  },
  {
   "cell_type": "code",
   "execution_count": 6,
   "metadata": {},
   "outputs": [
    {
     "name": "stdout",
     "output_type": "stream",
     "text": [
      "radius = 400\n",
      "area = 502654.39999999997\n",
      "radius = 2\n",
      "area = 502654.39999999997\n"
     ]
    }
   ],
   "source": [
    "radius = 400\n",
    "area = 3.14159 * (radius ** 2)\n",
    "print('radius =', radius)\n",
    "print('area =', area)\n",
    "radius = 2\n",
    "print('radius =', radius)\n",
    "print('area =', area)"
   ]
  },
  {
   "cell_type": "markdown",
   "metadata": {},
   "source": [
    "## Demo using <font color=red>*numpy*</font> package \n",
    "\n",
    "We will learn **numpy** later."
   ]
  },
  {
   "cell_type": "code",
   "execution_count": 7,
   "metadata": {},
   "outputs": [],
   "source": [
    "import numpy as np\n",
    "x = np.linspace(-50, 50, 1000)\n",
    "y = (x - 1) * (x + 1)\n",
    "#print(\"x is\", x)\n",
    "#print(\"y is\", y)"
   ]
  },
  {
   "cell_type": "markdown",
   "metadata": {},
   "source": [
    "## Demo for plotting with Python\n",
    "\n",
    "We will learn *plotting* later."
   ]
  },
  {
   "cell_type": "code",
   "execution_count": 8,
   "metadata": {},
   "outputs": [
    {
     "data": {
      "text/plain": [
       "Text(0.5,0,'x-axis')"
      ]
     },
     "execution_count": 8,
     "metadata": {},
     "output_type": "execute_result"
    },
    {
     "data": {
      "image/png": "[encoded data removed]",
      "text/plain": [
       "<matplotlib.figure.Figure at 0x7f4f1c06bf60>"
      ]
     },
     "metadata": {},
     "output_type": "display_data"
    }
   ],
   "source": [
    "import matplotlib.pyplot as plt\n",
    "%matplotlib inline\n",
    "plt.plot(x, y)\n",
    "plt.ylabel('parabola')\n",
    "plt.xlabel('x-axis')"
   ]
  }
 ],
 "metadata": {
  "kernelspec": {
   "display_name": "Python 3",
   "language": "python",
   "name": "python3"
  },
  "language_info": {
   "codemirror_mode": {
    "name": "ipython",
    "version": 3
   },
   "file_extension": ".py",
   "mimetype": "text/x-python",
   "name": "python",
   "nbconvert_exporter": "python",
   "pygments_lexer": "ipython3",
   "version": "3.6.4"
  }
 },
 "nbformat": 4,
 "nbformat_minor": 2
}
