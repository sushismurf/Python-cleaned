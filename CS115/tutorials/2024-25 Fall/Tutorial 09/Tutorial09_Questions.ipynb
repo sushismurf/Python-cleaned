{
 "cells": [
  {
   "cell_type": "markdown",
   "metadata": {},
   "source": [
    "# CS 115 - Introduction to Programming in Python\n",
    "## Tutorial 09 \n",
    "### Objectives: Two-dimensional lists.  Numpy arrays.\n",
    "\n",
    "**Instructions:**\n",
    "\n",
    "- In this tutorial, you will use Jupyter Notebook. \n",
    "- Complete the questions in the spaces provided and upload the solution to Moodle when finished."
   ]
  },
  {
   "cell_type": "markdown",
   "metadata": {},
   "source": [
    "## Question 1:\n",
    "***Complete the following using numpy.  Do not use if statements or loops in your solution.***"
   ]
  },
  {
   "cell_type": "markdown",
   "metadata": {},
   "source": [
    "#### a) Create a numpy array containing the names of 5 cities: 'Ankara', 'Istanbul', 'Konya', 'Izmir','Kayseri'"
   ]
  },
  {
   "cell_type": "code",
   "execution_count": null,
   "metadata": {},
   "outputs": [],
   "source": []
  },
  {
   "cell_type": "markdown",
   "metadata": {},
   "source": [
    "#### b) Create a numpy array containing 5 random *float* values between 500 and 800 that represent the cost of heating in each of the cities above."
   ]
  },
  {
   "cell_type": "code",
   "execution_count": null,
   "metadata": {},
   "outputs": [],
   "source": []
  },
  {
   "cell_type": "markdown",
   "metadata": {},
   "source": [
    "#### c) Create a two-dimensional numpy array with 3 rows and 5 columns. The first row will contain the heating costs for each city for 2020, the second row will contain the heating costs for 2021 (heating costs from 2020 increased by 20%), and the third row contains the costs for 2022 (heating costs from 2021 increased by 15%)."
   ]
  },
  {
   "cell_type": "code",
   "execution_count": null,
   "metadata": {},
   "outputs": [],
   "source": []
  },
  {
   "cell_type": "markdown",
   "metadata": {},
   "source": [
    "#### d) Display the maximum heating cost for each year for all cities, and the average heating cost for each city, for all years."
   ]
  },
  {
   "cell_type": "code",
   "execution_count": null,
   "metadata": {},
   "outputs": [],
   "source": []
  },
  {
   "cell_type": "markdown",
   "metadata": {},
   "source": [
    "#### e) Display the names of the cities with the 2022 heating costs over 900."
   ]
  },
  {
   "cell_type": "code",
   "execution_count": null,
   "metadata": {},
   "outputs": [],
   "source": []
  }
 ],
 "metadata": {
  "kernelspec": {
   "display_name": "Python 3",
   "language": "python",
   "name": "python3"
  },
  "language_info": {
   "codemirror_mode": {
    "name": "ipython",
    "version": 3
   },
   "file_extension": ".py",
   "mimetype": "text/x-python",
   "name": "python",
   "nbconvert_exporter": "python",
   "pygments_lexer": "ipython3",
   "version": "3.8.8"
  }
 },
 "nbformat": 4,
 "nbformat_minor": 2
}
