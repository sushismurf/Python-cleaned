{
 "cells": [
  {
   "cell_type": "markdown",
   "metadata": {},
   "source": [
    "## CS115 Introduction to Programming in Python \n",
    "### Lab 09 \n",
    "\n",
    "*Lab Objectives:*  Numpy.\n",
    "\n",
    "*Instructions:* \n",
    "\n",
    "- In this lab, you will use the Jupyter Notebook.\n",
    "\n",
    "- Complete the questions in the spaces provided and upload the solution to Moodle when finished.\n",
    "\n",
    "*NOTE:* For the following questions, you should not use loops or if statements!"
   ]
  },
  {
   "cell_type": "markdown",
   "metadata": {},
   "source": [
    "1) Download the files *country_data.csv*, *01_indicator.csv* and *02_indicator.csv* from Moodle. The files are tab delimited, and the data in each file is parallel.  For example, row 1 in the indicators files corresponds to the country in the country file.  Review the data in each file before proceeding.\n"
   ]
  },
  {
   "cell_type": "markdown",
   "metadata": {},
   "source": [
    "2) Download this file *lab9.ipynb* as *yourname_Lab09.ipynb* that does the following: "
   ]
  },
  {
   "cell_type": "markdown",
   "metadata": {},
   "source": [
    "a. First import numpy"
   ]
  },
  {
   "cell_type": "code",
   "execution_count": 1,
   "metadata": {},
   "outputs": [],
   "source": [
    "import numpy as np"
   ]
  },
  {
   "cell_type": "markdown",
   "metadata": {},
   "source": [
    "b. import the data from the files into 3 separate numpy arrays."
   ]
  },
  {
   "cell_type": "markdown",
   "metadata": {},
   "source": [
    "- country stores country and region data"
   ]
  },
  {
   "cell_type": "code",
   "execution_count": 2,
   "metadata": {},
   "outputs": [],
   "source": [
    "country = np.loadtxt( 'country_data.txt',skiprows = 1, dtype = 'str', delimiter='\\t')"
   ]
  },
  {
   "cell_type": "markdown",
   "metadata": {},
   "source": [
    "- ind_01 stores the indicators from the 01_indicator_one file"
   ]
  },
  {
   "cell_type": "code",
   "execution_count": 3,
   "metadata": {},
   "outputs": [],
   "source": [
    "ind_01 = np.loadtxt( '01_indicator.txt',skiprows = 1, delimiter = '\\t'  )"
   ]
  },
  {
   "cell_type": "markdown",
   "metadata": {},
   "source": [
    "- ind_02 stores the indicators from the 02_indicator file"
   ]
  },
  {
   "cell_type": "code",
   "execution_count": 4,
   "metadata": {},
   "outputs": [],
   "source": [
    "ind_02 = np.loadtxt( '02_indicator.txt',skiprows = 1, delimiter = '\\t'  )"
   ]
  },
  {
   "cell_type": "markdown",
   "metadata": {},
   "source": [
    "c. Create a new array *ind_data* where the first column is *02_indicator data* and the remaining columns are from *01_indicator*\n"
   ]
  },
  {
   "cell_type": "code",
   "execution_count": 5,
   "metadata": {},
   "outputs": [],
   "source": [
    "ind_data = np.hstack([ind_02.reshape((len(ind_02),1)),ind_01,])"
   ]
  },
  {
   "cell_type": "markdown",
   "metadata": {},
   "source": [
    "d. Increase the GDP per capita values in *ind_data* by 10%"
   ]
  },
  {
   "cell_type": "code",
   "execution_count": 6,
   "metadata": {},
   "outputs": [],
   "source": [
    "ind_data[:,0] *= 1.1"
   ]
  },
  {
   "cell_type": "markdown",
   "metadata": {},
   "source": [
    "e. Display the names of the countries in Latin America and Caribbean"
   ]
  },
  {
   "cell_type": "code",
   "execution_count": 7,
   "metadata": {},
   "outputs": [
    {
     "name": "stdout",
     "output_type": "stream",
     "text": [
      "['Argentina' 'Bolivia' 'Brazil' 'Chile' 'Colombia' 'Costa Rica'\n",
      " 'Dominican Republic' 'Ecuador' 'El Salvador' 'Guatemala' 'Haiti'\n",
      " 'Honduras' 'Jamaica' 'Mexico' 'Nicaragua' 'Panama' 'Paraguay' 'Peru'\n",
      " 'Uruguay' 'Venezuela']\n"
     ]
    }
   ],
   "source": [
    "print( country[country[:,0] == 'Latin America and Caribbean'][:,1])"
   ]
  },
  {
   "cell_type": "markdown",
   "metadata": {},
   "source": [
    "f. Display the healthy life expectancy values for the countries in Latin America and Caribbean"
   ]
  },
  {
   "cell_type": "code",
   "execution_count": 8,
   "metadata": {},
   "outputs": [
    {
     "name": "stdout",
     "output_type": "stream",
     "text": [
      "[69.201 68.699 65.474 67.055 62.409 69.6   69.593 71.4   69.1   68.25\n",
      " 63.901 65.9   66.005 67.102 53.78  50.102 51.969 56.101 72.2   73.8  ]\n"
     ]
    }
   ],
   "source": [
    "print( ind_data[country[:,0] == 'Latin America and Caribbean'][:,2] )"
   ]
  },
  {
   "cell_type": "markdown",
   "metadata": {},
   "source": [
    "g. Find and display the mean life expectancy value for all countries"
   ]
  },
  {
   "cell_type": "code",
   "execution_count": 9,
   "metadata": {},
   "outputs": [
    {
     "name": "stdout",
     "output_type": "stream",
     "text": [
      "Average Life Expectancy:64.993\n"
     ]
    }
   ],
   "source": [
    "mean_life = np.mean(ind_data[:,2])\n",
    "print( f'Average Life Expectancy:{mean_life:.3f}')"
   ]
  },
  {
   "cell_type": "markdown",
   "metadata": {},
   "source": [
    "h. Find the countries above average life expectancy and store them as countries"
   ]
  },
  {
   "cell_type": "code",
   "execution_count": 10,
   "metadata": {},
   "outputs": [],
   "source": [
    "countries = country[ind_data[:,2] > mean_life][:,1]"
   ]
  },
  {
   "cell_type": "markdown",
   "metadata": {},
   "source": [
    "i.  Find the life expectancy of the countries above average life expectancy and store them as life"
   ]
  },
  {
   "cell_type": "code",
   "execution_count": 11,
   "metadata": {},
   "outputs": [],
   "source": [
    "life = ind_data[ind_data[:,2] > mean_life][:,2]"
   ]
  },
  {
   "cell_type": "markdown",
   "metadata": {},
   "source": [
    "j. Create a two dimensional array life_data where the first column contains the names of the countries with life expentancy above average life expectancy and the second column is the life expectancy of those countries."
   ]
  },
  {
   "cell_type": "code",
   "execution_count": 12,
   "metadata": {},
   "outputs": [],
   "source": [
    "life_data = np.array([countries,life]).T"
   ]
  },
  {
   "cell_type": "markdown",
   "metadata": {},
   "source": [
    "k. Display the countries and their life expectancy (life_data) from step j."
   ]
  },
  {
   "cell_type": "code",
   "execution_count": 13,
   "metadata": {},
   "outputs": [
    {
     "name": "stdout",
     "output_type": "stream",
     "text": [
      "Countries and their life expectancy with above average life expectancy:\n",
      "[['Afghanistan' '70.807']\n",
      " ['Albania' '71.4']\n",
      " ['Argentina' '69.201']\n",
      " ['Armenia' '67.906']\n",
      " ['Australia' '68.8']\n",
      " ['Austria' '69.702']\n",
      " ['Azerbaijan' '67.355']\n",
      " ['Bahrain' '68.6']\n",
      " ['Bangladesh' '67.1']\n",
      " ['Belarus' '68.0']\n",
      " ['Belgium' '70.799']\n",
      " ['Benin' '68.098']\n",
      " ['Bolivia' '68.699']\n",
      " ['Bosnia and Herzegovina' '67.0']\n",
      " ['Botswana' '68.999']\n",
      " ['Brazil' '65.474']\n",
      " ['Bulgaria' '65.255']\n",
      " ['Burkina Faso' '65.2']\n",
      " ['Burundi' '65.699']\n",
      " ['Cameroon' '66.253']\n",
      " ['Chile' '67.055']\n",
      " ['China' '65.656']\n",
      " ['Costa Rica' '69.6']\n",
      " ['Croatia' '75.1']\n",
      " ['Cyprus' '73.9']\n",
      " ['Denmark' '76.82']\n",
      " ['Dominican Republic' '69.593']\n",
      " ['Ecuador' '71.4']\n",
      " ['El Salvador' '69.1']\n",
      " ['Estonia' '66.601']\n",
      " ['Ethiopia' '68.597']\n",
      " ['Finland' '67.5']\n",
      " ['France' '69.652']\n",
      " ['Gabon' '70.0']\n",
      " ['Gambia' '66.402']\n",
      " ['Georgia' '68.001']\n",
      " ['Germany' '67.657']\n",
      " ['Ghana' '69.0']\n",
      " ['Greece' '67.3']\n",
      " ['Guatemala' '68.25']\n",
      " ['Guinea' '68.8']\n",
      " ['Honduras' '65.9']\n",
      " ['Hong Kong S.A.R. of China' '66.102']\n",
      " ['Hungary' '66.7']\n",
      " ['India' '73.503']\n",
      " ['Indonesia' '69.495']\n",
      " ['Iran' '67.333']\n",
      " ['Iraq' '66.603']\n",
      " ['Ireland' '66.9']\n",
      " ['Italy' '67.199']\n",
      " ['Ivory Coast' '66.208']\n",
      " ['Jamaica' '66.005']\n",
      " ['Jordan' '66.3']\n",
      " ['Kazakhstan' '67.201']\n",
      " ['Kenya' '67.355']\n",
      " ['Kuwait' '67.0']\n",
      " ['Latvia' '73.4']\n",
      " ['Lebanon' '73.9']\n",
      " ['Lesotho' '73.8']\n",
      " ['Liberia' '68.2']\n",
      " ['Lithuania' '70.6']\n",
      " ['Malawi' '67.299']\n",
      " ['Mali' '76.953']\n",
      " ['Malta' '67.401']\n",
      " ['Mauritius' '68.034']\n",
      " ['Mexico' '67.102']\n",
      " ['Mozambique' '66.701']\n",
      " ['Switzerland' '72.0']\n",
      " ['Taiwan Province of China' '72.7']\n",
      " ['Tajikistan' '74.4']\n",
      " ['Tanzania' '73.0']\n",
      " ['Thailand' '72.4']\n",
      " ['Togo' '73.3']\n",
      " ['Tunisia' '72.7']\n",
      " ['Turkey' '72.6']\n",
      " ['Turkmenistan' '73.3']\n",
      " ['Uganda' '72.5']\n",
      " ['Ukraine' '72.4']\n",
      " ['United Arab Emirates' '72.5']\n",
      " ['United Kingdom' '72.199']\n",
      " ['United States' '74.0']\n",
      " ['Uruguay' '72.2']\n",
      " ['Uzbekistan' '74.7']\n",
      " ['Venezuela' '73.8']\n",
      " ['Vietnam' '73.898']\n",
      " ['Yemen' '72.6']\n",
      " ['Zambia' '72.6']\n",
      " ['Zimbabwe' '73.898']]\n"
     ]
    }
   ],
   "source": [
    "print('Countries and their life expectancy with above average life expectancy:')\n",
    "print( life_data )"
   ]
  },
  {
   "cell_type": "markdown",
   "metadata": {},
   "source": [
    "l. Output the data to a file *above_life_expectancy.txt*"
   ]
  },
  {
   "cell_type": "code",
   "execution_count": 14,
   "metadata": {},
   "outputs": [],
   "source": [
    "np.savetxt('above_life_expectancy.txt', life_data, fmt='%s')"
   ]
  },
  {
   "cell_type": "markdown",
   "metadata": {},
   "source": [
    "m. Display the regions with at least 1 country with GDP per capita over 11 (no duplicates)"
   ]
  },
  {
   "cell_type": "code",
   "execution_count": 15,
   "metadata": {},
   "outputs": [
    {
     "name": "stdout",
     "output_type": "stream",
     "text": [
      "['Central and Eastern Europe' 'Commonwealth of Independent States'\n",
      " 'East Asia' 'Latin America and Caribbean' 'Middle East and North Africa'\n",
      " 'North America and ANZ' 'South Asia' 'Southeast Asia'\n",
      " 'Sub-Saharan Africa' 'Western Europe']\n"
     ]
    }
   ],
   "source": [
    "regions_above = country[ind_data[:,0] > 11][:,0]\n",
    "print(np.unique(regions_above))"
   ]
  }
 ],
 "metadata": {
  "kernelspec": {
   "display_name": "Python 3",
   "language": "python",
   "name": "python3"
  },
  "language_info": {
   "codemirror_mode": {
    "name": "ipython",
    "version": 3
   },
   "file_extension": ".py",
   "mimetype": "text/x-python",
   "name": "python",
   "nbconvert_exporter": "python",
   "pygments_lexer": "ipython3",
   "version": "3.8.3"
  }
 },
 "nbformat": 4,
 "nbformat_minor": 5
}
